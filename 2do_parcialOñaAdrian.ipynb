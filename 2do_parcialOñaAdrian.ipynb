{
  "nbformat": 4,
  "nbformat_minor": 0,
  "metadata": {
    "colab": {
      "provenance": []
    },
    "kernelspec": {
      "name": "python3",
      "display_name": "Python 3"
    },
    "language_info": {
      "name": "python"
    }
  },
  "cells": [
    {
      "cell_type": "code",
      "execution_count": 55,
      "metadata": {
        "id": "vo0AcRZobqET"
      },
      "outputs": [],
      "source": [
        "# utilizado para manejos de directorios y rutas\n",
        "import os\n",
        "\n",
        "# Computacion vectorial y cientifica para python\n",
        "import numpy as np\n",
        "\n",
        "# Librerias para graficación (trazado de gráficos)\n",
        "from matplotlib import pyplot\n",
        "from mpl_toolkits.mplot3d import Axes3D  # Necesario para graficar superficies 3D\n",
        "\n",
        "# llama a matplotlib a embeber graficas dentro de los cuadernillos\n",
        "%matplotlib inline"
      ]
    },
    {
      "cell_type": "code",
      "source": [
        "from google.colab import drive\n",
        "drive.mount(\"/content/gdrive\")"
      ],
      "metadata": {
        "colab": {
          "base_uri": "https://localhost:8080/"
        },
        "id": "f0-Dvir3b6nS",
        "outputId": "a07b06ad-6c65-48fe-f177-be78cd9ef453"
      },
      "execution_count": 56,
      "outputs": [
        {
          "output_type": "stream",
          "name": "stdout",
          "text": [
            "Drive already mounted at /content/gdrive; to attempt to forcibly remount, call drive.mount(\"/content/gdrive\", force_remount=True).\n"
          ]
        }
      ]
    },
    {
      "cell_type": "code",
      "source": [
        "# Cargar datos\n",
        "data = np.loadtxt(('/content/gdrive/MyDrive/wheat.csv'), delimiter=',', skiprows=1)\n",
        "X = data[:, :8]\n",
        "y = data[:, 7]\n",
        "m = y.size"
      ],
      "metadata": {
        "id": "Jwzn3boaeIw4"
      },
      "execution_count": 57,
      "outputs": []
    },
    {
      "cell_type": "code",
      "source": [
        "def  featureNormalize(X):\n",
        "    X_norm = X.copy()\n",
        "    mu = np.zeros(X.shape[1])\n",
        "    sigma = np.zeros(X.shape[1])\n",
        "\n",
        "    mu = np.mean(X, axis = 0)\n",
        "    sigma = np.std(X, axis = 0)\n",
        "    X_norm = (X - mu) / sigma\n",
        "    \n",
        "    return X_norm, mu, sigma"
      ],
      "metadata": {
        "id": "bRnBW40eeN5s"
      },
      "execution_count": 58,
      "outputs": []
    },
    {
      "cell_type": "code",
      "source": [
        "# llama featureNormalize con los datos cargados\n",
        "X_norm, mu, sigma = featureNormalize(X)\n",
        "\n",
        "print(X)\n",
        "print('Media calculada:', mu)\n",
        "print('Desviación estandar calculada:', sigma)\n",
        "print(X_norm)"
      ],
      "metadata": {
        "colab": {
          "base_uri": "https://localhost:8080/"
        },
        "id": "5J3tH83YeVhu",
        "outputId": "55573ea5-1505-49a6-a835-a07b6fc4055b"
      },
      "execution_count": 59,
      "outputs": [
        {
          "output_type": "stream",
          "name": "stdout",
          "text": [
            "[[15.26   14.84    0.871  ...  2.221   5.22    1.    ]\n",
            " [14.88   14.57    0.8811 ...  1.018   4.956   1.    ]\n",
            " [14.29   14.09    0.905  ...  2.699   4.825   1.    ]\n",
            " ...\n",
            " [13.2    13.66    0.8883 ...  8.315   5.056   3.    ]\n",
            " [11.84   13.21    0.8521 ...  3.598   5.044   3.    ]\n",
            " [12.3    13.34    0.8684 ...  5.637   5.063   3.    ]]\n",
            "Media calculada: [14.84752381 14.55928571  0.87099857  5.62853333  3.25860476  3.70020095\n",
            "  5.40807143  2.        ]\n",
            "Desviación estandar calculada: [2.90276331 1.30284559 0.02357309 0.44200731 0.37681405 1.49997296\n",
            " 0.49030891 0.81649658]\n",
            "[[ 1.42097769e-01  2.15462437e-01  6.06017918e-05 ... -9.86151745e-01\n",
            "  -3.83577423e-01 -1.22474487e+00]\n",
            " [ 1.11880257e-02  8.22375713e-03  4.28515270e-01 ... -1.78816620e+00\n",
            "  -9.22013487e-01 -1.22474487e+00]\n",
            " [-1.92066576e-01 -3.60200562e-01  1.44238325e+00 ... -6.67479334e-01\n",
            "  -1.18919199e+00 -1.22474487e+00]\n",
            " ...\n",
            " [-5.67570840e-01 -6.90247348e-01  7.33948301e-01 ...  3.07658816e+00\n",
            "  -7.18060432e-01  1.22474487e+00]\n",
            " [-1.03608992e+00 -1.03564515e+00 -8.01701104e-01 ... -6.81351965e-02\n",
            "  -7.42534799e-01  1.22474487e+00]\n",
            " [-8.77620233e-01 -9.35863561e-01 -1.10234659e-01 ...  1.29122264e+00\n",
            "  -7.03783718e-01  1.22474487e+00]]\n"
          ]
        }
      ]
    },
    {
      "cell_type": "code",
      "source": [
        "# Añade el termino de interseccion a X\n",
        "# (Columna de unos para X0)\n",
        "X = np.concatenate([np.ones((m, 1)), X_norm], axis=1)\n",
        "print(X)"
      ],
      "metadata": {
        "colab": {
          "base_uri": "https://localhost:8080/"
        },
        "id": "XLv2qoXEerDZ",
        "outputId": "18ed9cd2-6a17-4c6e-dda8-9259e32f4d4b"
      },
      "execution_count": 60,
      "outputs": [
        {
          "output_type": "stream",
          "name": "stdout",
          "text": [
            "[[ 1.          0.14209777  0.21546244 ... -0.98615174 -0.38357742\n",
            "  -1.22474487]\n",
            " [ 1.          0.01118803  0.00822376 ... -1.7881662  -0.92201349\n",
            "  -1.22474487]\n",
            " [ 1.         -0.19206658 -0.36020056 ... -0.66747933 -1.18919199\n",
            "  -1.22474487]\n",
            " ...\n",
            " [ 1.         -0.56757084 -0.69024735 ...  3.07658816 -0.71806043\n",
            "   1.22474487]\n",
            " [ 1.         -1.03608992 -1.03564515 ... -0.0681352  -0.7425348\n",
            "   1.22474487]\n",
            " [ 1.         -0.87762023 -0.93586356 ...  1.29122264 -0.70378372\n",
            "   1.22474487]]\n"
          ]
        }
      ]
    },
    {
      "cell_type": "code",
      "source": [
        "def computeCostMulti(X, y, theta):\n",
        "    # Inicializa algunos valores utiles\n",
        "    m = y.shape[0] # numero de ejemplos de entrenamiento\n",
        "    \n",
        "    J = 0\n",
        "    \n",
        "    h = np.dot(X, theta)\n",
        "    \n",
        "    J = (1/(2 * m)) * np.sum(np.square(np.dot(X, theta) - y))\n",
        "    \n",
        "    return J"
      ],
      "metadata": {
        "id": "71mzNyw0ewqF"
      },
      "execution_count": 61,
      "outputs": []
    },
    {
      "cell_type": "code",
      "source": [
        "def gradientDescentMulti(X, y, theta, alpha, num_iters):\n",
        "    \n",
        "    # Inicializa algunos valores \n",
        "    m = y.shape[0] # numero de ejemplos de entrenamiento\n",
        "    \n",
        "    # realiza una copia de theta, el cual será acutalizada por el descenso por el gradiente\n",
        "    theta = theta.copy()\n",
        "    \n",
        "    J_history = []\n",
        "    \n",
        "    for i in range(num_iters):\n",
        "        theta = theta - (alpha / m) * (np.dot(X, theta) - y).dot(X)\n",
        "        J_history.append(computeCostMulti(X, y, theta))\n",
        "    \n",
        "    return theta, J_history"
      ],
      "metadata": {
        "id": "5JylFP42e6FD"
      },
      "execution_count": 62,
      "outputs": []
    },
    {
      "cell_type": "code",
      "source": [
        "# Primero, cargamos el conjunto de datos reales que vamos a utilizar para entrenar el modelo\n",
        "import pandas as pd   \n",
        "df = pd.read_csv(\"wheat.csv\")\n",
        "\n",
        "# Separamos las variables de entrada (X) de la variable de salida (y)\n",
        "X = df[[\"area\", \"perimeter\", \"compactness\", \"length\", \"width\", \"asymmetry coefficient\", \"groove length\"]]\n",
        "y = df[\"category\"]\n",
        "\n",
        "# A continuación, dividimos el conjunto de datos en un conjunto de entrenamiento y un conjunto de prueba\n",
        "from sklearn.model_selection import train_test_split\n",
        "X_train, X_test, y_train, y_test = train_test_split(X, y, test_size=0.2, random_state=42)\n",
        "\n",
        "# Creamos el modelo de regresión lineal y lo entrenamos con el conjunto de entrenamiento\n",
        "from sklearn.linear_model import LinearRegression\n",
        "model = LinearRegression()\n",
        "model.fit(X_train, y_train)\n",
        "\n",
        "# A continuación, generamos datos sintéticos utilizando el modelo entrenado\n",
        "# Para ello, creamos valores sintéticos para las variables de entrada y utilizamos el modelo para predecir los valores de la variable de salida\n",
        "import numpy as np\n",
        "X_synth = np.random.rand(10000, 7) # Creamos 10000 filas y 7 columnas de valores aleatorios entre 0 y 1 para las variables de entrada\n",
        "y_synth = model.predict(X_synth) # Predecimos los valores de la variable de salida utilizando el modelo entrenado\n",
        "\n",
        "# Creamos un nuevo dataframe con los datos sintéticos generados\n",
        "df_synth = pd.DataFrame({\"var1\": X_synth[:,0], \"var2\": X_synth[:,1], \"var3\": X_synth[:,2], \"var4\": X_synth[:,3],\"var5\": X_synth[:,4],\"var6\": X_synth[:,5],\"var7\": X_synth[:,6],\"var8\": y_synth})\n",
        "\n",
        "# Finalmente, guardamos el dataframe con los datos sintéticos generados en un archivo CSV\n",
        "df_synth.to_csv(\"datos_sinteticos.csv\", index=False)"
      ],
      "metadata": {
        "colab": {
          "base_uri": "https://localhost:8080/"
        },
        "id": "zSBEubNityIA",
        "outputId": "e2197748-991a-41ef-e64e-117f69aa0da9"
      },
      "execution_count": 48,
      "outputs": [
        {
          "output_type": "stream",
          "name": "stderr",
          "text": [
            "/usr/local/lib/python3.8/dist-packages/sklearn/base.py:450: UserWarning: X does not have valid feature names, but LinearRegression was fitted with feature names\n",
            "  warnings.warn(\n"
          ]
        }
      ]
    },
    {
      "cell_type": "markdown",
      "source": [],
      "metadata": {
        "id": "tVzrk2x2txlL"
      }
    },
    {
      "cell_type": "code",
      "source": [
        "# Elegir algun valor para alpha (probar varias alternativas)\n",
        "alpha = 0.0021\n",
        "num_iters = 1000\n",
        "\n",
        "# inicializa theta y ejecuta el descenso por el gradiente\n",
        "theta = np.zeros(9)\n",
        "theta, J_history = gradientDescentMulti(X, y, theta, alpha, num_iters)\n",
        "\n",
        "# Grafica la convergencia del costo\n",
        "pyplot.plot(np.arange(len(J_history)), J_history, lw=2)\n",
        "pyplot.xlabel('Numero de iteraciones')\n",
        "pyplot.ylabel('tipo de trigo')\n",
        "\n",
        "# Muestra los resultados del descenso por el gradiente\n",
        "print('theta calculado por el descenso por el gradiente: {:s}'.format(str(theta)))\n",
        "\n",
        "# Estimar el Indice de Reflexion de un vidrio segun los materiales que contiene\n",
        "X_array = [1,12.26,13.6,0.8333,5.408,2.833,4.756,5.36,1]\n",
        "X_array[0:8] = (X_array[0:8] - mu) / sigma\n",
        "RI = np.dot(X_array, theta)   \n",
        "\n",
        "print('El tipo de trigo predecido es de tipo: {:.0f}'.format(RI))"
      ],
      "metadata": {
        "colab": {
          "base_uri": "https://localhost:8080/",
          "height": 351
        },
        "id": "NcyfjAIwe-vG",
        "outputId": "c435fac0-da2d-4218-9148-9d2228211b9c"
      },
      "execution_count": 79,
      "outputs": [
        {
          "output_type": "stream",
          "name": "stdout",
          "text": [
            "theta calculado por el descenso por el gradiente: [ 1.75562734 -0.02243974 -0.03060661 -0.0799477  -0.02835575 -0.04249729\n",
            "  0.13233398  0.12314669  0.55926636]\n",
            "El tipo de trigo predecido es de tipo: -23\n"
          ]
        },
        {
          "output_type": "display_data",
          "data": {
            "text/plain": [
              "<Figure size 432x288 with 1 Axes>"
            ],
            "image/png": "[encoded data removed]"
          },
          "metadata": {
            "needs_background": "light"
          }
        }
      ]
    },
    {
      "cell_type": "code",
      "source": [
        "X_array = [1,12.26,13.6,0.8333,5.408,2.833,4.756,5.36,3.0]\n",
        "X_array[0:8] = (X_array[0:8] - mu) / sigma"
      ],
      "metadata": {
        "id": "eoLTBjHDfKde"
      },
      "execution_count": 80,
      "outputs": []
    },
    {
      "cell_type": "code",
      "source": [
        "X_array[1:8]"
      ],
      "metadata": {
        "colab": {
          "base_uri": "https://localhost:8080/"
        },
        "id": "c6ELdAoqfTl3",
        "outputId": "d91fc997-0aba-43d4-a8af-7367b07c5493"
      },
      "execution_count": 81,
      "outputs": [
        {
          "output_type": "execute_result",
          "data": {
            "text/plain": [
              "[-1.7648182801349002,\n",
              " 539.980206480468,\n",
              " -10.84876487337714,\n",
              " 5.7041270855822725,\n",
              " -0.5781443899114901,\n",
              " -1.3299195953979603,\n",
              " 4.1151427678757395]"
            ]
          },
          "metadata": {},
          "execution_count": 81
        }
      ]
    },
    {
      "cell_type": "code",
      "source": [
        "# Cargar datos\n",
        "data = np.loadtxt(('/content/gdrive/MyDrive/wheat.csv'), delimiter=',', skiprows=1)\n",
        "X = data[:, :8]\n",
        "y = data[:, 7]\n",
        "m = y.size\n",
        "X = np.concatenate([np.ones((m, 1)), X], axis=1)"
      ],
      "metadata": {
        "id": "CtKubiJyfXz2"
      },
      "execution_count": 82,
      "outputs": []
    },
    {
      "cell_type": "code",
      "source": [
        "def normalEqn(X, y):\n",
        "  \n",
        "    theta = np.zeros(X.shape[1])\n",
        "    \n",
        "    theta = np.dot(np.dot(np.linalg.inv(np.dot(X.T,X)),X.T),y)\n",
        "    \n",
        "    return theta"
      ],
      "metadata": {
        "id": "nuGBmY11fcjz"
      },
      "execution_count": 83,
      "outputs": []
    },
    {
      "cell_type": "code",
      "source": [
        "# Calcula los parametros con la ecuación de la normal\n",
        "theta = normalEqn(X, y);\n",
        "\n",
        "# Muestra los resultados optenidos a partir de la aplicación de la ecuación de la normal\n",
        "print('Theta calculado a partir de la ecuación de la normal: {:s}'.format(str(theta)));\n",
        "\n",
        "# Estimar el precio para una casa de superficie de 1650 sq-ft y tres dormitorios\n",
        "\n",
        "X_array = [1,12.26,13.6,0.8333,5.408,2.833,4.756,5.36,2.098]\n",
        "RI = np.dot(X_array, theta) \n",
        "\n",
        "print('El tipo de trigo es: {:.0f}'.format(RI))"
      ],
      "metadata": {
        "colab": {
          "base_uri": "https://localhost:8080/"
        },
        "id": "theD3B4if3LJ",
        "outputId": "304db71a-721f-4b89-a0ec-7f3da073b75d"
      },
      "execution_count": 87,
      "outputs": [
        {
          "output_type": "stream",
          "name": "stdout",
          "text": [
            "Theta calculado a partir de la ecuación de la normal: [ 1.67387881e-10  2.99236330e-12 -8.63073502e-12 -7.56394947e-11\n",
            "  1.22496457e-12  5.04757347e-12 -3.53710117e-14  6.18394225e-14\n",
            "  1.00000000e+00]\n",
            "El tipo de trigo es: 2\n"
          ]
        }
      ]
    },
    {
      "cell_type": "code",
      "source": [],
      "metadata": {
        "id": "zk-1I2H4f7JU"
      },
      "execution_count": null,
      "outputs": []
    }
  ]
}